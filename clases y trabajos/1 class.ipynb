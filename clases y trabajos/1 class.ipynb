{
 "cells": [
  {
   "cell_type": "code",
   "execution_count": null,
   "metadata": {},
   "outputs": [],
   "source": [
    "from random import randint\n",
    "x=randint(1,10)\n",
    "\n",
    "for i in range(3):\n",
    "    num=int(input(\"Intento \"))\n",
    "  \n",
    "    if num==x:\n",
    "        print(\"GANASTE\")\n",
    "        break;\n",
    "print(\"Era \",x)"
   ]
  },
  {
   "cell_type": "code",
   "execution_count": null,
   "metadata": {},
   "outputs": [],
   "source": [
    "n=int(input(\"Ingresa n: \"))\n",
    "m=int(input(\"Ingresa m: \"))\n",
    "x=0;\n",
    "for i in range(n,m+1):\n",
    "    x+=i\n",
    "print(x)"
   ]
  },
  {
   "cell_type": "code",
   "execution_count": null,
   "metadata": {},
   "outputs": [],
   "source": [
    "n=int(input(\"Ingresa el numero: \"))\n",
    "x=1;\n",
    "for i in range(1,n+1):\n",
    "    x*=i\n",
    "print(x)"
   ]
  }
 ],
 "metadata": {
  "kernelspec": {
   "display_name": "Python 3",
   "language": "python",
   "name": "python3"
  },
  "language_info": {
   "codemirror_mode": {
    "name": "ipython",
    "version": 3
   },
   "file_extension": ".py",
   "mimetype": "text/x-python",
   "name": "python",
   "nbconvert_exporter": "python",
   "pygments_lexer": "ipython3",
   "version": "3.7.4"
  }
 },
 "nbformat": 4,
 "nbformat_minor": 2
}
