{
 "cells": [
  {
   "cell_type": "code",
   "execution_count": 6,
   "metadata": {},
   "outputs": [
    {
     "name": "stdout",
     "output_type": "stream",
     "text": [
      "[5, 9, 12]\n"
     ]
    }
   ],
   "source": [
    "x = [2,4,6]\n",
    "y = [3,5,6]\n",
    "res=list()\n",
    "for xi,yi in zip(x,y):\n",
    "    res.append(xi+yi)\n",
    "print(res)"
   ]
  },
  {
   "cell_type": "code",
   "execution_count": 7,
   "metadata": {},
   "outputs": [
    {
     "data": {
      "text/plain": [
       "[5, 9, 12]"
      ]
     },
     "execution_count": 7,
     "metadata": {},
     "output_type": "execute_result"
    }
   ],
   "source": [
    "[xi+yi for xi,yi in zip(x,y)]"
   ]
  },
  {
   "cell_type": "code",
   "execution_count": 12,
   "metadata": {},
   "outputs": [
    {
     "name": "stdout",
     "output_type": "stream",
     "text": [
      "[ 5  9 12]\n",
      "[-1 -1  0]\n",
      "[10 20 30]\n"
     ]
    },
    {
     "data": {
      "text/plain": [
       "7.483314773547883"
      ]
     },
     "execution_count": 12,
     "metadata": {},
     "output_type": "execute_result"
    }
   ],
   "source": [
    "#vectores\n",
    "import numpy as np #para manejar vectores y matrices\n",
    "x = np.array([2,4,6])\n",
    "y = np.array([3,5,6])\n",
    "\n",
    "print(x+y) #suma\n",
    "print(x-y) #resta\n",
    "print(x*5) #mult. por escalar\n",
    "x.dot(y), x@y #prod punto\n",
    "np.linalg.norm(x) #"
   ]
  },
  {
   "cell_type": "code",
   "execution_count": 16,
   "metadata": {},
   "outputs": [
    {
     "name": "stdout",
     "output_type": "stream",
     "text": [
      "[[2 2 8]\n",
      " [8 5 0]\n",
      " [3 3 4]]\n",
      "[[21 13  8]\n",
      " [ 1  0  5]\n",
      " [21 13  8]]\n"
     ]
    }
   ],
   "source": [
    "#matriz\n",
    "import numpy as np\n",
    "\n",
    "A = np.array([[1,2,3],\n",
    "              [1,0,0], \n",
    "              [1,2,3]])\n",
    "\n",
    "B = np.array([[1,0,5],\n",
    "              [7,5,0], \n",
    "              [2,1,1]])\n",
    "print(A+B) #suma de matrices\n",
    "print(A@B)# multiplicacion de matrices"
   ]
  },
  {
   "cell_type": "code",
   "execution_count": 18,
   "metadata": {},
   "outputs": [
    {
     "data": {
      "text/plain": [
       "array([[0, 1],\n",
       "       [2, 3]])"
      ]
     },
     "execution_count": 18,
     "metadata": {},
     "output_type": "execute_result"
    }
   ],
   "source": [
    "import numpy as np\n",
    "a=np.arange(4).reshape(2,2)\n",
    "a"
   ]
  },
  {
   "cell_type": "code",
   "execution_count": 21,
   "metadata": {},
   "outputs": [
    {
     "data": {
      "text/plain": [
       "array([[1., 0., 0.],\n",
       "       [0., 1., 0.],\n",
       "       [0., 0., 1.]])"
      ]
     },
     "execution_count": 21,
     "metadata": {},
     "output_type": "execute_result"
    }
   ],
   "source": [
    "I=np.eye(3)\n",
    "I"
   ]
  },
  {
   "cell_type": "code",
   "execution_count": 24,
   "metadata": {},
   "outputs": [
    {
     "name": "stdout",
     "output_type": "stream",
     "text": [
      "[[3.]\n",
      " [1.]]\n"
     ]
    }
   ],
   "source": [
    "\"\"\"\"resolver\n",
    "    x-2y=1\n",
    "    3x+2y=11\n",
    "\"\"\"\n",
    "import numpy as np\n",
    "cof=np.array([[1,-2],\n",
    "           [3,2]])\n",
    "ind=np.array([[1],\n",
    "               [11]])\n",
    "x_y=np.linalg.inv(cof)@ind\n",
    "print(x_y)\n"
   ]
  },
  {
   "cell_type": "code",
   "execution_count": 27,
   "metadata": {},
   "outputs": [
    {
     "name": "stdout",
     "output_type": "stream",
     "text": [
      "[[-1.11022302e-16]\n",
      " [-1.11022302e-16]\n",
      " [ 2.00000000e+00]]\n",
      "[[0.]\n",
      " [0.]\n",
      " [2.]]\n"
     ]
    }
   ],
   "source": [
    "\"\"\"\"resolver\n",
    "    x+2y+3z=6\n",
    "    2x+5y+2z=4\n",
    "    6x -3y +z=2\n",
    "\"\"\"\n",
    "import numpy as np\n",
    "cof=np.array([[1,2,3],\n",
    "              [2,5,2],\n",
    "              [6,-3,1]])\n",
    "ind=np.array([[6],\n",
    "              [4],\n",
    "              [2]])\n",
    "x_y=np.linalg.inv(cof)@ind\n",
    "print(x_y)\n",
    "\n",
    "#o\n",
    "\n",
    "print(np.linalg.solve(cof,ind))"
   ]
  },
  {
   "cell_type": "code",
   "execution_count": 28,
   "metadata": {},
   "outputs": [
    {
     "name": "stdout",
     "output_type": "stream",
     "text": [
      "[[15.33333333]\n",
      " [26.66666667]\n",
      " [26.66666667]]\n"
     ]
    }
   ],
   "source": [
    "#La Mercedes\n",
    "cof=np.array([[3,2,4],\n",
    "              [5,3,2],\n",
    "              [6,6,6]])\n",
    "ind=np.array([[206],\n",
    "              [210],\n",
    "              [412]])\n",
    "print(np.linalg.solve(cof,ind))"
   ]
  },
  {
   "cell_type": "code",
   "execution_count": 29,
   "metadata": {},
   "outputs": [
    {
     "name": "stdout",
     "output_type": "stream",
     "text": [
      "[[30.]\n",
      " [10.]\n",
      " [20.]]\n"
     ]
    }
   ],
   "source": [
    "#La Juana\n",
    "cof=np.array([[3,2,1],\n",
    "              [2,1,1],\n",
    "              [1,1,1]])\n",
    "ind=np.array([[130],\n",
    "              [90],\n",
    "              [60]])\n",
    "print(np.linalg.solve(cof,ind))"
   ]
  },
  {
   "cell_type": "code",
   "execution_count": null,
   "metadata": {},
   "outputs": [],
   "source": []
  }
 ],
 "metadata": {
  "kernelspec": {
   "display_name": "Python 3",
   "language": "python",
   "name": "python3"
  },
  "language_info": {
   "codemirror_mode": {
    "name": "ipython",
    "version": 3
   },
   "file_extension": ".py",
   "mimetype": "text/x-python",
   "name": "python",
   "nbconvert_exporter": "python",
   "pygments_lexer": "ipython3",
   "version": "3.7.4"
  }
 },
 "nbformat": 4,
 "nbformat_minor": 2
}
