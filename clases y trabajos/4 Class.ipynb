{
 "cells": [
  {
   "cell_type": "code",
   "execution_count": 2,
   "metadata": {},
   "outputs": [
    {
     "name": "stdout",
     "output_type": "stream",
     "text": [
      "Collecting pulp\n",
      "  Downloading https://files.pythonhosted.org/packages/fb/34/ff5915ff6bae91cfb7c4cc22c3c369a6aea0b2127045dd5f308a91c260ac/PuLP-2.0-py3-none-any.whl (39.2MB)\n",
      "Requirement already satisfied: pyparsing>=2.0.1 in c:\\users\\usuario\\anaconda3\\lib\\site-packages (from pulp) (2.4.2)\n",
      "Installing collected packages: pulp\n",
      "Successfully installed pulp-2.0\n"
     ]
    }
   ],
   "source": [
    "!pip install pulp"
   ]
  },
  {
   "cell_type": "code",
   "execution_count": 4,
   "metadata": {},
   "outputs": [],
   "source": [
    "from pulp import *"
   ]
  },
  {
   "cell_type": "code",
   "execution_count": 5,
   "metadata": {},
   "outputs": [],
   "source": [
    "pulp.LpVariable?"
   ]
  },
  {
   "cell_type": "code",
   "execution_count": 9,
   "metadata": {},
   "outputs": [
    {
     "data": {
      "text/plain": [
       "Mi_LP_Problema:\n",
       "MINIMIZE\n",
       "1*x + 2*y + 0\n",
       "SUBJECT TO\n",
       "_C1: 3 x + 4 y >= 1\n",
       "\n",
       "_C2: 2 x + 5 y >= 2\n",
       "\n",
       "VARIABLES\n",
       "x Continuous\n",
       "y Continuous"
      ]
     },
     "execution_count": 9,
     "metadata": {},
     "output_type": "execute_result"
    }
   ],
   "source": [
    "mi_lp_problema = pulp.LpProblem(\"Mi LP Problema\", pulp.LpMinimize)\n",
    "\n",
    "x = pulp.LpVariable('x', lowBound=0,cat='Continuous')\n",
    "y = pulp.LpVariable('y', lowBound=0,cat='Continuous')\n",
    "\n",
    "#ObjectiveFunction\n",
    "mi_lp_problema += x + 2*y\n",
    "\n",
    "#Constraints\n",
    "mi_lp_problema += 3*x + 4*y >= 1\n",
    "mi_lp_problema += 2*x + 5*y >= 2\n",
    "\n",
    "\n",
    "mi_lp_problema"
   ]
  },
  {
   "cell_type": "code",
   "execution_count": 10,
   "metadata": {},
   "outputs": [
    {
     "data": {
      "text/plain": [
       "Mi_LP_Problema:\n",
       "MINIMIZE\n",
       "1*x + 2*y + 0\n",
       "SUBJECT TO\n",
       "_C1: 3 x + 4 y >= 1\n",
       "\n",
       "_C2: 2 x + 5 y >= 2\n",
       "\n",
       "VARIABLES\n",
       "x Continuous\n",
       "y Continuous"
      ]
     },
     "execution_count": 10,
     "metadata": {},
     "output_type": "execute_result"
    }
   ],
   "source": [
    "mi_lp_problema"
   ]
  },
  {
   "cell_type": "code",
   "execution_count": 11,
   "metadata": {},
   "outputs": [
    {
     "data": {
      "text/plain": [
       "1"
      ]
     },
     "execution_count": 11,
     "metadata": {},
     "output_type": "execute_result"
    }
   ],
   "source": [
    "mi_lp_problema.solve()"
   ]
  },
  {
   "cell_type": "code",
   "execution_count": null,
   "metadata": {},
   "outputs": [],
   "source": [
    "for variable in mi:lp_problema.variables():\n",
    "        print(\"{} = {}\".format(variable.name))"
   ]
  },
  {
   "cell_type": "code",
   "execution_count": 12,
   "metadata": {},
   "outputs": [
    {
     "name": "stdout",
     "output_type": "stream",
     "text": [
      "Collecting cvxopt\n",
      "  Downloading https://files.pythonhosted.org/packages/67/94/b4607fbe9b89d068c03c0c8fe42c994489516a379cd74cf66d1ebacabdaf/cvxopt-1.2.4-cp37-cp37m-win_amd64.whl (815kB)\n",
      "Collecting mkl (from cvxopt)\n",
      "  Downloading https://files.pythonhosted.org/packages/56/39/537cb3e4e93f1ac5085dc3b3a43cfd99d0af9b29c44fcaa99490f526b611/mkl-2019.0-py2.py3-none-win_amd64.whl (224.1MB)\n",
      "Collecting intel-openmp (from mkl->cvxopt)\n",
      "  Downloading https://files.pythonhosted.org/packages/2f/24/2562ec7515e44dea49867fab2c75704c0014d5d3da1f4e9f3bcfac717e5f/intel_openmp-2019.0-py2.py3-none-win_amd64.whl (1.9MB)\n",
      "Installing collected packages: intel-openmp, mkl, cvxopt\n",
      "Successfully installed cvxopt-1.2.4 intel-openmp-2019.0 mkl-2019.0\n"
     ]
    }
   ],
   "source": [
    "!pip install cvxopt"
   ]
  },
  {
   "cell_type": "code",
   "execution_count": 17,
   "metadata": {},
   "outputs": [
    {
     "name": "stdout",
     "output_type": "stream",
     "text": [
      "     pcost       dcost       gap    pres   dres   k/t\n",
      " 0:  6.7308e-01  3.7308e+00  6e+00  1e+00  5e+00  1e+00\n",
      " 1:  8.4233e-01  1.0964e+00  5e-01  1e-01  6e-01  6e-03\n",
      " 2:  8.0538e-01  8.2298e-01  2e-02  8e-03  4e-02  2e-03\n",
      " 3:  8.0005e-01  8.0026e-01  2e-04  1e-04  5e-04  3e-05\n",
      " 4:  8.0000e-01  8.0000e-01  2e-06  1e-06  5e-06  3e-07\n",
      " 5:  8.0000e-01  8.0000e-01  2e-08  1e-08  5e-08  3e-09\n",
      "Optimal solution found.\n",
      "[ 1.86e-08]\n",
      "[ 4.00e-01]\n",
      "\n"
     ]
    }
   ],
   "source": [
    "from cvxopt import *\n",
    "\n",
    "A= matrix([ [-3.0, -2.0, -1.0, 0.0],\n",
    "            [-4.0, -5.0, 0.0, -1.0]])\n",
    "\n",
    "b=matrix([-1.0, -2.0, 0.0, 0.0])\n",
    "c=matrix([1.0, 2.0])\n",
    "sol = solvers.lp(c,A,b)\n",
    "\n",
    "print(sol['x'])"
   ]
  },
  {
   "cell_type": "code",
   "execution_count": 19,
   "metadata": {},
   "outputs": [
    {
     "name": "stdout",
     "output_type": "stream",
     "text": [
      "     pcost       dcost       gap    pres   dres   k/t\n",
      " 0:  2.6471e+00 -7.0588e-01  2e+01  8e-01  2e+00  1e+00\n",
      " 1:  3.0726e+00  2.8437e+00  1e+00  1e-01  2e-01  3e-01\n",
      " 2:  2.4891e+00  2.4808e+00  1e-01  1e-02  2e-02  5e-02\n",
      " 3:  2.4999e+00  2.4998e+00  1e-03  1e-04  2e-04  5e-04\n",
      " 4:  2.5000e+00  2.5000e+00  1e-05  1e-06  2e-06  5e-06\n",
      " 5:  2.5000e+00  2.5000e+00  1e-07  1e-08  2e-08  5e-08\n",
      "Optimal solution found.\n",
      "[ 5.00e-01]\n",
      "[ 1.50e+00]\n",
      "\n"
     ]
    }
   ],
   "source": [
    "\"\"\" \n",
    "minimize 2x1 + x2\n",
    "subject to -x1+x2 <= 1\n",
    "            x1 + x2 >= 2\n",
    "            x2 >= 0\n",
    "            x1 - 2x2 <= 4\n",
    "\"\"\"\n",
    "A= matrix([ [-1.0, -1.0, 0.0, 1.0],\n",
    "            [1.0, -1.0, -1.0, -2.0]])\n",
    "\n",
    "b=matrix([1.0, -2.0, 0.0, 4.0])\n",
    "c=matrix([2.0, 1.0])\n",
    "sol = solvers.lp(c,A,b)\n",
    "\n",
    "print(sol['x'])"
   ]
  },
  {
   "cell_type": "code",
   "execution_count": 20,
   "metadata": {},
   "outputs": [],
   "source": [
    "from scipy.optimize import linprog"
   ]
  },
  {
   "cell_type": "code",
   "execution_count": 24,
   "metadata": {},
   "outputs": [
    {
     "name": "stdout",
     "output_type": "stream",
     "text": [
      "Primal Feasibility  Dual Feasibility    Duality Gap         Step             Path Parameter      Objective          \n",
      "1.0                 1.0                 1.0                 -                1.0                 3.0                 \n",
      "0.2072856751293     0.2072856751293     0.2072856751293     0.7999480594121  0.2072856751293     3.579699344878      \n",
      "0.04221733741717    0.04221733741733    0.04221733741733    0.8110397766462  0.04221733741734    2.932391084387      \n",
      "0.002794365888754   0.002794365888752   0.002794365888752   0.9398089815588  0.002794365888663   2.499086690604      \n",
      "1.55017789994e-06   1.55017790417e-06   1.550177904208e-06  1.0              1.550177904493e-06  2.500010071106      \n",
      "7.75087706436e-11   7.750910491569e-11  7.750905473003e-11  0.9999499998918  7.750902688112e-11  2.500000000504      \n",
      "Optimization terminated successfully.\n",
      "         Current function value: 2.500000    \n",
      "         Iterations: 5\n"
     ]
    }
   ],
   "source": [
    "\"\"\" \n",
    "minimize 2x1 + x2\n",
    "subject to -x1+x2 <= 1\n",
    "            x1 + x2 >= 2\n",
    "            x2 >= 0\n",
    "            x1 - 2x2 <= 4\n",
    "\"\"\"\n",
    "\n",
    "c = [2,1]\n",
    "\n",
    "A = [[-1,1],\n",
    "     [-1,-1],\n",
    "     [1,-2]]\n",
    "\n",
    "b= [1, -2 ,4]\n",
    " \n",
    "x0_bounds= (0, None)\n",
    "x1_bounds= (0, None)\n",
    "\n",
    "res = linprog(c, A_ub=A,b_ub=b,bounds=(x0_bounds,x1_bounds), options={\"disp\":True})"
   ]
  },
  {
   "cell_type": "code",
   "execution_count": 36,
   "metadata": {},
   "outputs": [],
   "source": [
    "import matplotlib.pyplot as plt\n",
    "import numpy as np\n",
    "from scipy.integrate import odeint\n",
    "%matplotlib inline"
   ]
  },
  {
   "cell_type": "code",
   "execution_count": 39,
   "metadata": {},
   "outputs": [
    {
     "data": {
      "text/plain": [
       "Text(0.5, 0, 'tiempo')"
      ]
     },
     "execution_count": 39,
     "metadata": {},
     "output_type": "execute_result"
    },
    {
     "data": {
      "image/png": "[encoded data removed]",
      "text/plain": [
       "<Figure size 432x288 with 1 Axes>"
      ]
     },
     "metadata": {
      "needs_background": "light"
     },
     "output_type": "display_data"
    }
   ],
   "source": [
    "k = 3.0 # constante del resorte\n",
    "m = 1.0\n",
    "B = 0.5 #Constante de amortiguacion\n",
    "def armonico(variables, t):\n",
    "    x,y = variables\n",
    "    return [y, -k*x/m-B/m*y]\n",
    "\n",
    "inicial = [0.8,0]#vector de posicion inicial y velocidad inicial\n",
    "# condiciones iniciales x(t=0)=0.8[m] y(t=0)=0.0 [m/s]\n",
    "\n",
    "tiempo = np.arange(0,20,0.01)\n",
    "\n",
    "resultado=odeint(armonico,inicial,tiempo)\n",
    "#el sistema se resuelve con\n",
    "#odeint(sistema, conidciones iniciales, rangodnde graficaremos)\n",
    "xx, yy = resultado.T #extrae posicion y velocidad\n",
    "plt.plot(tiempo,xx,c='r', label='Posicion')\n",
    "plt.plot(tiempo,yy,c='b', label='Velocidad')\n",
    "plt.legend(loc= 'best',prop={'size':14})\n",
    "plt.xlabel('tiempo', fontsize=14)\n",
    "\n"
   ]
  },
  {
   "cell_type": "code",
   "execution_count": 46,
   "metadata": {},
   "outputs": [
    {
     "data": {
      "text/plain": [
       "3.0"
      ]
     },
     "execution_count": 46,
     "metadata": {},
     "output_type": "execute_result"
    }
   ],
   "source": [
    "Omega=k/m\n",
    "Omega"
   ]
  },
  {
   "cell_type": "code",
   "execution_count": 48,
   "metadata": {},
   "outputs": [],
   "source": [
    "from ipywidgets import *"
   ]
  },
  {
   "cell_type": "code",
   "execution_count": 59,
   "metadata": {},
   "outputs": [
    {
     "data": {
      "application/vnd.jupyter.widget-view+json": {
       "model_id": "1bb90ac68c524e44b83bdfd892bb3da2",
       "version_major": 2,
       "version_minor": 0
      },
      "text/plain": [
       "interactive(children=(FloatSlider(value=1.0, description='k', max=10.0), FloatSlider(value=4.1, description='m…"
      ]
     },
     "metadata": {},
     "output_type": "display_data"
    },
    {
     "data": {
      "text/plain": [
       "<function __main__.amortiguado(k=1, m=4.1, B=0.5)>"
      ]
     },
     "execution_count": 59,
     "metadata": {},
     "output_type": "execute_result"
    }
   ],
   "source": [
    "def amortiguado(k=1,m=4.1, B=0.5):\n",
    "    #k = 3.0 # constante del resorte\n",
    "    #m = 1.0\n",
    "    #B = 0.5 #Constante de amortiguacion\n",
    "    def armonico(variables, t):\n",
    "        x,y = variables\n",
    "        return [y, -k*x/m-B/m*y]\n",
    "\n",
    "    inicial = [0.8,0]#vector de posicion inicial y velocidad inicial\n",
    "    # condiciones iniciales x(t=0)=0.8[m] y(t=0)=0.0 [m/s]\n",
    "\n",
    "    tiempo = np.arange(0,20,0.01)\n",
    "\n",
    "    resultado=odeint(armonico,inicial,tiempo)\n",
    "    #el sistema se resuelve con\n",
    "    #odeint(sistema, conidciones iniciales, rangodnde graficaremos)\n",
    "    xx, yy = resultado.T #extrae posicion y velocidad\n",
    "    plt.plot(tiempo,xx,c='r', label='Posicion')\n",
    "    plt.plot(tiempo,yy,c='b', label='Velocidad')\n",
    "    plt.legend(loc= 'best',prop={'size':14})\n",
    "    plt.xlabel('tiempo', fontsize=14)\n",
    "    plt.show()\n",
    "\n",
    "interact_manual(amortiguado, k=(0,10,0.1),m=(0,10,0.1), B=(0,10,0.1))\n"
   ]
  },
  {
   "cell_type": "code",
   "execution_count": 67,
   "metadata": {},
   "outputs": [
    {
     "data": {
      "application/vnd.jupyter.widget-view+json": {
       "model_id": "943492726e9b4a47951700b76b2d4797",
       "version_major": 2,
       "version_minor": 0
      },
      "text/plain": [
       "interactive(children=(FloatSlider(value=1.0, description='r', max=10.0), Button(description='Run Interact', st…"
      ]
     },
     "metadata": {},
     "output_type": "display_data"
    },
    {
     "data": {
      "text/plain": [
       "<function __main__.crecimiento(r=1)>"
      ]
     },
     "execution_count": 67,
     "metadata": {},
     "output_type": "execute_result"
    }
   ],
   "source": [
    "def crecimiento(r=1):\n",
    "    def poblacion(variables, t):\n",
    "        return r*x*(1-x)\n",
    "\n",
    "    inicial = 0.05\n",
    "\n",
    "    tiempo = np.linspace(0,10)\n",
    "\n",
    "    xx=odeint(poblacion,inicial,tiempo)\n",
    "    \n",
    "    plt.plot(tiempo,xx,c='r', label='Posicion')\n",
    "\n",
    "    plt.legend(loc= 'best',prop={'size':14})\n",
    "    plt.xlabel('tiempo', fontsize=14)\n",
    "    plt.show()\n",
    "\n",
    "interact_manual(crecimiento, r=(0,10,0.1))\n"
   ]
  },
  {
   "cell_type": "code",
   "execution_count": 94,
   "metadata": {},
   "outputs": [
    {
     "data": {
      "application/vnd.jupyter.widget-view+json": {
       "model_id": "639e7b831cce41e2b55cca438d040445",
       "version_major": 2,
       "version_minor": 0
      },
      "text/plain": [
       "interactive(children=(FloatSlider(value=0.5, description='R', max=5.0), FloatSlider(value=1.0, description='L'…"
      ]
     },
     "metadata": {},
     "output_type": "display_data"
    },
    {
     "data": {
      "text/plain": [
       "<function __main__.trayectoria(R=0.5, L=1, Vr=1, Vl=1)>"
      ]
     },
     "execution_count": 94,
     "metadata": {},
     "output_type": "execute_result"
    }
   ],
   "source": [
    "#controlar un robot\n",
    "def trayectoria(R=0.5,L=1,Vr=1,Vl=1):\n",
    "    def sistema(variables, t):\n",
    "        x,y,phi= variables\n",
    "        return [(R/2)*(Vr+Vl)*np.cos(phi),(R/2)*(Vr+Vl)*np.sin(phi), R/L * (Vr-Vl) ]\n",
    "\n",
    "    inicial = [0,0,0]\n",
    "\n",
    "    tiempo = np.arange(0,5,0.01)\n",
    "\n",
    "    resultado=odeint(sistema,inicial,tiempo)\n",
    "\n",
    "    xx, yy = resultado[:,0],resultado[:,1] \n",
    "    plt.plot(xx,yy,c='r')\n",
    "    plt.show()\n",
    "\n",
    "\n",
    "interact_manual(trayectoria, R=(0,5,0.1), L=(0,5,0.1), Vr=(0,5,0.1), Vl=(0,5,0.1))\n",
    "#webots\n"
   ]
  },
  {
   "cell_type": "code",
   "execution_count": null,
   "metadata": {},
   "outputs": [],
   "source": []
  }
 ],
 "metadata": {
  "kernelspec": {
   "display_name": "Python 3",
   "language": "python",
   "name": "python3"
  },
  "language_info": {
   "codemirror_mode": {
    "name": "ipython",
    "version": 3
   },
   "file_extension": ".py",
   "mimetype": "text/x-python",
   "name": "python",
   "nbconvert_exporter": "python",
   "pygments_lexer": "ipython3",
   "version": "3.7.4"
  }
 },
 "nbformat": 4,
 "nbformat_minor": 2
}
