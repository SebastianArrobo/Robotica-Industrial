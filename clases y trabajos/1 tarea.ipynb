{
 "cells": [
  {
   "cell_type": "code",
   "execution_count": 1,
   "metadata": {},
   "outputs": [
    {
     "name": "stdout",
     "output_type": "stream",
     "text": [
      "3\n",
      "5\n",
      "7\n",
      "9\n",
      "6\n"
     ]
    }
   ],
   "source": [
    "tuple1 = 1,2,3,4,5\n",
    "tuple2 = 2,3,4,5,1\n",
    "\n",
    "for i in range(len(tuple1)):\n",
    "    result=(tuple1[i] + tuple2[i])\n",
    "    print(result)"
   ]
  },
  {
   "cell_type": "code",
   "execution_count": 6,
   "metadata": {},
   "outputs": [
    {
     "name": "stdout",
     "output_type": "stream",
     "text": [
      "Ingresa los valores del primer vector\n",
      "[0]=2\n",
      "[1]=3\n",
      "[2]=4\n",
      "Ingresa los valores del segundo vector\n",
      "[0]=3\n",
      "[1]=2\n",
      "[2]=1\n",
      "El producto punto es igual a 16\n"
     ]
    }
   ],
   "source": [
    "V1=list()\n",
    "V2=list()\n",
    "prod=0;\n",
    "\n",
    "print(\"Ingresa los valores del primer vector\")\n",
    "V1.append(int(input(\"[0]=\")))\n",
    "V1.append(int(input(\"[1]=\")))\n",
    "V1.append(int(input(\"[2]=\")))\n",
    "print(\"Ingresa los valores del segundo vector\")\n",
    "V2.append(int(input(\"[0]=\")))\n",
    "V2.append(int(input(\"[1]=\")))\n",
    "V2.append(int(input(\"[2]=\")))\n",
    "\n",
    "for i in range(len(V1)):\n",
    "    prod+=V1[i]*V2[i]\n",
    "print(\"El producto punto es igual a\",prod)\n"
   ]
  },
  {
   "cell_type": "code",
   "execution_count": 27,
   "metadata": {},
   "outputs": [
    {
     "name": "stdout",
     "output_type": "stream",
     "text": [
      "Ingrese un nombre: Sebastian\n",
      "S3b4st14n\n"
     ]
    }
   ],
   "source": [
    "code={\"a\":\"4\",\"e\":\"3\",\"i\":\"1\",\"o\":\"0\",\"u\":\"2\"}\n",
    "name=input(\"Ingrese un nombre: \")\n",
    "newName=\"\";\n",
    "flag=True;\n",
    "for l in name:\n",
    "    for x in code:\n",
    "        if(l==x):\n",
    "            newName+=code[x]\n",
    "            flag=False;\n",
    "    if (flag): \n",
    "        newName+=l\n",
    "    flag=True;\n",
    "                \n",
    "print(newName)"
   ]
  },
  {
   "cell_type": "code",
   "execution_count": null,
   "metadata": {},
   "outputs": [],
   "source": []
  }
 ],
 "metadata": {
  "kernelspec": {
   "display_name": "Python 3",
   "language": "python",
   "name": "python3"
  },
  "language_info": {
   "codemirror_mode": {
    "name": "ipython",
    "version": 3
   },
   "file_extension": ".py",
   "mimetype": "text/x-python",
   "name": "python",
   "nbconvert_exporter": "python",
   "pygments_lexer": "ipython3",
   "version": "3.7.4"
  }
 },
 "nbformat": 4,
 "nbformat_minor": 2
}
